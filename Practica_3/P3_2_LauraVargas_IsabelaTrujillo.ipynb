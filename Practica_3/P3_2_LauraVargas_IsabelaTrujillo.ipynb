{
 "cells": [
  {
   "cell_type": "markdown",
   "metadata": {},
   "source": [
    "# Práctica 3 parte 2\n",
    "##### Isabela Trujillo - Laura Vargas\n",
    "Se cuenta con señales de EEG de dos grupos de personas, un  grupo control y un grupo de pacientes con enfermedad de Parkinson. Se tiene evidencia que la energía de las señales de EEG puede conducir a diferenciar entre señales de pacientes con enfermedad de Parkinson y sanos. Se pide calcular la Energía promedio por grupo poblacional de cada canal."
   ]
  },
  {
   "cell_type": "code",
   "execution_count": 7,
   "metadata": {},
   "outputs": [],
   "source": [
    "import glob\n",
    "import pandas as pd\n",
    "import matplotlib as mpl\n",
    "import matplotlib.pyplot as plt\n",
    "import numpy as np\n",
    "import scipy.signal as signal\n",
    "import scipy.stats as sis\n",
    "import scipy.io as sio\n",
    "import statsmodels.tsa.stattools as sta\n",
    "from statsmodels.tsa.stattools import adfuller\n",
    "from scipy.stats import mannwhitneyu\n",
    "from scipy.stats import shapiro\n",
    "from scipy.stats import levene\n",
    "from scipy.stats import ttest_ind\n",
    "import os\n",
    "import zipfile\n",
    "import io\n",
    "import seaborn as sns\n"
   ]
  },
  {
   "cell_type": "markdown",
   "metadata": {},
   "source": [
    "##### Implemente una función que reciba una señal de múltiples canales y épocas y calcule la Energía de promedio de cada canal"
   ]
  },
  {
   "cell_type": "code",
   "execution_count": 22,
   "metadata": {},
   "outputs": [
    {
     "name": "stdout",
     "output_type": "stream",
     "text": [
      "park: \n",
      "[[ 0.7801739   0.35548592 -1.23701763 ...  8.61526585  5.32485151\n",
      "   2.10171628]\n",
      " [ 0.7717725   0.32634103 -1.17328632 ...  8.52684021  5.27745581\n",
      "   2.00372195]\n",
      " [ 0.75064629  0.28169858 -1.11551464 ...  8.40527725  5.22155333\n",
      "   1.92058063]\n",
      " ...\n",
      " [-2.35174608 -0.37010911  2.63554406 ... -3.26450038 -1.90368557\n",
      "  -2.75989079]\n",
      " [-2.56928277 -0.46061552  2.74045372 ... -3.29805875 -1.99913025\n",
      "  -2.91318083]\n",
      " [-2.77679467 -0.54325163  2.83435702 ... -3.342592   -2.09891915\n",
      "  -3.07217503]]\n",
      " control: \n",
      "[[-1.08502638 -2.61430597 -1.10882771 ... -0.63866556  1.22497225\n",
      "   2.94287109]\n",
      " [-0.87366116 -2.42915678 -0.90971917 ... -0.41136748  1.32911432\n",
      "   2.92242956]\n",
      " [-0.66055715 -2.25657654 -0.73941201 ... -0.13530292  1.46772242\n",
      "   2.93172073]\n",
      " ...\n",
      " [ 6.33238554  1.24629378 -1.81045485 ... -5.15402412 -8.70972729\n",
      "  -8.77152061]\n",
      " [ 6.76563406  1.56646693 -1.66290319 ... -5.53995752 -9.0186224\n",
      "  -9.2203083 ]\n",
      " [ 7.16178656  1.86495924 -1.51589954 ... -5.86591959 -9.29266548\n",
      "  -9.64237785]]\n"
     ]
    }
   ],
   "source": [
    "\n",
    "ruta=os.getcwd() \n",
    "\n",
    "with zipfile.ZipFile(ruta+'\\\\datos_senales_datos_parkinson_cursos.zip', 'r') as zip_ref:\n",
    "  for file in zip_ref.infolist():\n",
    "    if file.filename.startswith('datos_senales_datos_parkinson_cursos/control/C0') and file.filename.endswith('.mat'):\n",
    "          with zip_ref.open(file) as ts_file:\n",
    "                    ts_file_contents = sio.loadmat(ts_file)\n",
    "                    ts_file_contents=ts_file_contents['data']\n",
    "                    senal_continua_c = np.reshape(ts_file_contents,(ts_file_contents.shape[0],ts_file_contents.shape[1]*ts_file_contents.shape[2]),order='F')\n",
    "                    senal_continua_c= senal_continua_c.T\n",
    "\n",
    "    #senal_continua_c=pd.DataFrame(senal_continua_c)\n",
    "    if file.filename.startswith('datos_senales_datos_parkinson_cursos/parkinson/P0') and file.filename.endswith('.mat'):\n",
    "          with zip_ref.open(file) as ts_file:\n",
    "                    ts_file_contents = sio.loadmat(ts_file)\n",
    "                    ts_file_contents=ts_file_contents['data']\n",
    "                    senal_continua_p = np.reshape(ts_file_contents,(ts_file_contents.shape[0],ts_file_contents.shape[1]*ts_file_contents.shape[2]),order='F')\n",
    "                    senal_continua_p = senal_continua_p.T\n",
    "          #senal_continua_p=pd.DataFrame(senal_continua_p)           \n",
    "\n",
    "\n",
    "print(f'park: \\n{senal_continua_p}\\n control: \\n{senal_continua_c}')\n"
   ]
  },
  {
   "cell_type": "code",
   "execution_count": 24,
   "metadata": {},
   "outputs": [
    {
     "name": "stdout",
     "output_type": "stream",
     "text": [
      "La energía de control:\n",
      "               0\n",
      "0  2.720273e+06\n",
      "1  2.325277e+06\n",
      "2  2.724161e+06\n",
      "3  2.461960e+06\n",
      "4  2.503053e+06\n",
      "5  5.345319e+06\n",
      "6  4.792634e+06\n",
      "7  5.629962e+06\n",
      " La energía de Parkinson: \n",
      "                 0\n",
      "0       135.328438\n",
      "1       133.200384\n",
      "2       130.348094\n",
      "3       126.744488\n",
      "4       122.386026\n",
      "...            ...\n",
      "339995   31.399199\n",
      "339996   34.322731\n",
      "339997   37.554865\n",
      "339998   41.037077\n",
      "339999   44.697274\n",
      "\n",
      "[340000 rows x 1 columns]\n"
     ]
    }
   ],
   "source": [
    "def energia(senal):\n",
    "    promCanales = []\n",
    "    for canal in senal:\n",
    "        energia = np.sum(np.square(canal))\n",
    "        energia_m = np.mean(energia)\n",
    "        promCanales.append(energia_m)\n",
    "    return promCanales\n",
    "\n",
    "e_control=energia(ts_file_contents)\n",
    "e_parkinson=energia(senal_continua_p)\n",
    "print(f'La energía de control:\\n {pd.DataFrame(e_control)}\\n La energía de Parkinson: \\n{pd.DataFrame(e_parkinson)}')"
   ]
  },
  {
   "cell_type": "markdown",
   "metadata": {},
   "source": [
    "##### Calcule la energía de cada canal promediada por épocas para cada sujeto, esto para ambos grupos poblacionales. Guarde esta información en un DataFrame de columnas ‘canal’ y filas ‘#sujeto’ con los valores de energía calculados, un DataFrame para cada grupo poblacional. "
   ]
  },
  {
   "cell_type": "code",
   "execution_count": 25,
   "metadata": {},
   "outputs": [
    {
     "ename": "KeyboardInterrupt",
     "evalue": "",
     "output_type": "error",
     "traceback": [
      "\u001b[1;31m---------------------------------------------------------------------------\u001b[0m",
      "\u001b[1;31mKeyboardInterrupt\u001b[0m                         Traceback (most recent call last)",
      "Cell \u001b[1;32mIn[25], line 13\u001b[0m\n\u001b[0;32m     10\u001b[0m         t_c\u001b[38;5;241m.\u001b[39mloc[x]\u001b[38;5;241m=\u001b[39msujeto\n\u001b[0;32m     11\u001b[0m     \u001b[38;5;28;01mreturn\u001b[39;00m t_c\n\u001b[1;32m---> 13\u001b[0m e_canal_control\u001b[38;5;241m=\u001b[39m\u001b[43me_canal\u001b[49m\u001b[43m(\u001b[49m\u001b[43msenal_continua_c\u001b[49m\u001b[43m)\u001b[49m\n\u001b[0;32m     14\u001b[0m e_canal_parkinson\u001b[38;5;241m=\u001b[39me_canal(senal_continua_p)\n\u001b[0;32m     15\u001b[0m \u001b[38;5;66;03m#print(f'La energía de control:\\n {e_canal_control}\\n La energía de Parkinson:\\n {e_canal_parkinson}')\u001b[39;00m\n",
      "Cell \u001b[1;32mIn[25], line 7\u001b[0m, in \u001b[0;36me_canal\u001b[1;34m(datos)\u001b[0m\n\u001b[0;32m      5\u001b[0m \u001b[38;5;28;01mfor\u001b[39;00m i \u001b[38;5;129;01min\u001b[39;00m \u001b[38;5;28mrange\u001b[39m(\u001b[38;5;28mlen\u001b[39m(datos)):\n\u001b[0;32m      6\u001b[0m     k\u001b[38;5;241m=\u001b[39mdatos[i]\n\u001b[1;32m----> 7\u001b[0m     canales\u001b[38;5;241m.\u001b[39mappend(\u001b[43menergia\u001b[49m\u001b[43m(\u001b[49m\u001b[43mk\u001b[49m\u001b[43m)\u001b[49m)\n\u001b[0;32m      8\u001b[0m t_c\u001b[38;5;241m=\u001b[39mpd\u001b[38;5;241m.\u001b[39mDataFrame(columns\u001b[38;5;241m=\u001b[39mtitulos)\n\u001b[0;32m      9\u001b[0m \u001b[38;5;28;01mfor\u001b[39;00m x, sujeto \u001b[38;5;129;01min\u001b[39;00m \u001b[38;5;28menumerate\u001b[39m(canales,\u001b[38;5;241m1\u001b[39m):\n",
      "Cell \u001b[1;32mIn[24], line 5\u001b[0m, in \u001b[0;36menergia\u001b[1;34m(senal)\u001b[0m\n\u001b[0;32m      3\u001b[0m \u001b[38;5;28;01mfor\u001b[39;00m canal \u001b[38;5;129;01min\u001b[39;00m senal:\n\u001b[0;32m      4\u001b[0m     energia \u001b[38;5;241m=\u001b[39m np\u001b[38;5;241m.\u001b[39msum(np\u001b[38;5;241m.\u001b[39msquare(canal))\n\u001b[1;32m----> 5\u001b[0m     energia_m \u001b[38;5;241m=\u001b[39m \u001b[43mnp\u001b[49m\u001b[38;5;241;43m.\u001b[39;49m\u001b[43mmean\u001b[49m\u001b[43m(\u001b[49m\u001b[43menergia\u001b[49m\u001b[43m)\u001b[49m\n\u001b[0;32m      6\u001b[0m     promCanales\u001b[38;5;241m.\u001b[39mappend(energia_m)\n\u001b[0;32m      7\u001b[0m \u001b[38;5;28;01mreturn\u001b[39;00m promCanales\n",
      "File \u001b[1;32mc:\\Users\\lauri\\AppData\\Local\\Programs\\Python\\Python312\\Lib\\site-packages\\numpy\\_core\\fromnumeric.py:3902\u001b[0m, in \u001b[0;36mmean\u001b[1;34m(a, axis, dtype, out, keepdims, where)\u001b[0m\n\u001b[0;32m   3900\u001b[0m         \u001b[38;5;28;01mpass\u001b[39;00m\n\u001b[0;32m   3901\u001b[0m     \u001b[38;5;28;01melse\u001b[39;00m:\n\u001b[1;32m-> 3902\u001b[0m         \u001b[38;5;28;01mreturn\u001b[39;00m \u001b[43mmean\u001b[49m\u001b[43m(\u001b[49m\u001b[43maxis\u001b[49m\u001b[38;5;241;43m=\u001b[39;49m\u001b[43maxis\u001b[49m\u001b[43m,\u001b[49m\u001b[43m \u001b[49m\u001b[43mdtype\u001b[49m\u001b[38;5;241;43m=\u001b[39;49m\u001b[43mdtype\u001b[49m\u001b[43m,\u001b[49m\u001b[43m \u001b[49m\u001b[43mout\u001b[49m\u001b[38;5;241;43m=\u001b[39;49m\u001b[43mout\u001b[49m\u001b[43m,\u001b[49m\u001b[43m \u001b[49m\u001b[38;5;241;43m*\u001b[39;49m\u001b[38;5;241;43m*\u001b[39;49m\u001b[43mkwargs\u001b[49m\u001b[43m)\u001b[49m\n\u001b[0;32m   3904\u001b[0m \u001b[38;5;28;01mreturn\u001b[39;00m _methods\u001b[38;5;241m.\u001b[39m_mean(a, axis\u001b[38;5;241m=\u001b[39maxis, dtype\u001b[38;5;241m=\u001b[39mdtype,\n\u001b[0;32m   3905\u001b[0m                       out\u001b[38;5;241m=\u001b[39mout, \u001b[38;5;241m*\u001b[39m\u001b[38;5;241m*\u001b[39mkwargs)\n",
      "File \u001b[1;32mc:\\Users\\lauri\\AppData\\Local\\Programs\\Python\\Python312\\Lib\\site-packages\\numpy\\_core\\_methods.py:119\u001b[0m, in \u001b[0;36m_mean\u001b[1;34m(a, axis, dtype, out, keepdims, where)\u001b[0m\n\u001b[0;32m    116\u001b[0m     \u001b[38;5;28;01melse\u001b[39;00m:\n\u001b[0;32m    117\u001b[0m         \u001b[38;5;28;01mreturn\u001b[39;00m um\u001b[38;5;241m.\u001b[39mclip(a, \u001b[38;5;28mmin\u001b[39m, \u001b[38;5;28mmax\u001b[39m, out\u001b[38;5;241m=\u001b[39mout, \u001b[38;5;241m*\u001b[39m\u001b[38;5;241m*\u001b[39mkwargs)\n\u001b[1;32m--> 119\u001b[0m \u001b[38;5;28;01mdef\u001b[39;00m \u001b[38;5;21m_mean\u001b[39m(a, axis\u001b[38;5;241m=\u001b[39m\u001b[38;5;28;01mNone\u001b[39;00m, dtype\u001b[38;5;241m=\u001b[39m\u001b[38;5;28;01mNone\u001b[39;00m, out\u001b[38;5;241m=\u001b[39m\u001b[38;5;28;01mNone\u001b[39;00m, keepdims\u001b[38;5;241m=\u001b[39m\u001b[38;5;28;01mFalse\u001b[39;00m, \u001b[38;5;241m*\u001b[39m, where\u001b[38;5;241m=\u001b[39m\u001b[38;5;28;01mTrue\u001b[39;00m):\n\u001b[0;32m    120\u001b[0m     arr \u001b[38;5;241m=\u001b[39m asanyarray(a)\n\u001b[0;32m    122\u001b[0m     is_float16_result \u001b[38;5;241m=\u001b[39m \u001b[38;5;28;01mFalse\u001b[39;00m\n",
      "\u001b[1;31mKeyboardInterrupt\u001b[0m: "
     ]
    }
   ],
   "source": [
    "def e_canal(datos):\n",
    "    titulos=['1','2','3','4','5','6','7','8']\n",
    "    \n",
    "    canales=[]\n",
    "    for i in range(len(datos)):\n",
    "        k=datos[i]\n",
    "        canales.append(energia(k))\n",
    "    t_c=pd.DataFrame(columns=titulos)\n",
    "    for x, sujeto in enumerate(canales,1):\n",
    "        t_c.loc[x]=sujeto\n",
    "    return t_c\n",
    "\n",
    "e_canal_control=e_canal(senal_continua_c)\n",
    "e_canal_parkinson=e_canal(senal_continua_p)\n",
    "#print(f'La energía de control:\\n {e_canal_control}\\n La energía de Parkinson:\\n {e_canal_parkinson}')"
   ]
  },
  {
   "cell_type": "markdown",
   "metadata": {},
   "source": [
    "##### Determine si existe diferencia estadística entre canales de cada grupo de sujetos a través de una prueba t. Compruebe los supuestos necesarios para realizar una prueba t, esto es: Normalidad de la variable, independencia (se asume que los grupos son independientes), y homocedasticidad (use una prueba de Levene), finalmente realice la prueba t para determinar si existen diferencias entre los canales entre grupos de sujetos."
   ]
  },
  {
   "cell_type": "code",
   "execution_count": null,
   "metadata": {},
   "outputs": [],
   "source": [
    "resultados = []\n",
    "\n",
    "for canal in e_canal_control.columns:\n",
    "    print(f\"Análisis para el canal: {canal}\")\n",
    "    c_control = e_canal_control[canal]\n",
    "    c_parkinson = e_canal_parkinson[canal]\n",
    "\n",
    "    \n",
    "    shapiro_control = sis.shapiro(c_control)\n",
    "    shapiro_parkinson = sis.shapiro(c_parkinson)\n",
    "\n",
    "    normal = shapiro_control.pvalue > 0.05 and shapiro_parkinson.pvalue > 0.05\n",
    "    print(f\"  Prueba de normalidad\\n    p-value Control: {shapiro_control.pvalue}\\n    p-value Parkinson: {shapiro_parkinson.pvalue}\")\n",
    "\n",
    "    prueba_levene = sis.levene(c_control, c_parkinson)\n",
    "    homogeneo = prueba_levene.pvalue > 0.05\n",
    "    print(f\"  Prueba de Levene (homocedasticidad)\\n    p-value: {prueba_levene.pvalue}\")\n"
   ]
  },
  {
   "cell_type": "markdown",
   "metadata": {},
   "source": [
    "Si cumple con normalidad y homocedasticidad se realiza la prueba t"
   ]
  },
  {
   "cell_type": "code",
   "execution_count": null,
   "metadata": {},
   "outputs": [],
   "source": [
    "\n",
    "for canal in e_canal_control.columns:\n",
    "    prueba_t = sis.ttest_ind(c_control, c_parkinson)\n",
    "    print(f\"  Prueba t - p-value: {prueba_t.pvalue}\")\n",
    "    resultados.append((canal, \"t-test\", prueba_t.pvalue))"
   ]
  },
  {
   "cell_type": "markdown",
   "metadata": {},
   "source": [
    "Si No cumple con normalidad y homocedasticidad se realiza la prueba de Mann Whitney"
   ]
  },
  {
   "cell_type": "markdown",
   "metadata": {},
   "source": [
    "#####  De no cumplirse los requisitos, realice entonces un análisis no paramétrico (prueba U de Mann-Whitney). Este numeral tiene como objetivo identificar los canales que entregan información diferencial entre pacientes Sanos y con enfermedad de Parkinson."
   ]
  },
  {
   "cell_type": "code",
   "execution_count": null,
   "metadata": {},
   "outputs": [],
   "source": [
    "for canal in e_canal_control.columns:\n",
    "    prueba_mann = sis.mannwhitneyu(c_control, c_parkinson)\n",
    "    print(f\"  Prueba U de Mann-Whitney - p-value: {prueba_mann.pvalue}\")\n",
    "    resultados.append((canal, \"Mann-Whitney\", prueba_mann.pvalue))"
   ]
  }
 ],
 "metadata": {
  "kernelspec": {
   "display_name": "Python 3",
   "language": "python",
   "name": "python3"
  },
  "language_info": {
   "codemirror_mode": {
    "name": "ipython",
    "version": 3
   },
   "file_extension": ".py",
   "mimetype": "text/x-python",
   "name": "python",
   "nbconvert_exporter": "python",
   "pygments_lexer": "ipython3",
   "version": "3.12.5"
  }
 },
 "nbformat": 4,
 "nbformat_minor": 2
}
