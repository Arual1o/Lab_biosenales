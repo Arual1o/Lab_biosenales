{
 "cells": [
  {
   "cell_type": "code",
   "execution_count": 24,
   "metadata": {},
   "outputs": [
    {
     "name": "stdout",
     "output_type": "stream",
     "text": [
      "0      1.0600\n",
      "1      1.0733\n",
      "2      1.0733\n",
      "3      1.0400\n",
      "4      1.0400\n",
      "        ...  \n",
      "254    1.1000\n",
      "255    1.0667\n",
      "256    1.0900\n",
      "257    1.0367\n",
      "258    1.0467\n",
      "Name: 2, Length: 259, dtype: float64\n"
     ]
    }
   ],
   "source": [
    "import os\n",
    "import pandas as pd\n",
    "import zipfile\n",
    "ruta=os.getcwd()\n",
    "ts_files_contents_grupo = {}\n",
    "    \n",
    "names= ['Elapsed Time (sec)', 'Left Stride Interval (sec)', 'Right Stride Interval (sec)', 'Left Swing Interval (sec)',\n",
    "'Right Swing Interval (sec)',\t'Left Swing Interval (% of stride)', 'Right Swing Interval (% of stride)', 'Left Stance Interval (sec)', 'Right Stance Interval (sec)', 'Left Stance Interval (% of stride)',\n",
    "'Right Stance Interval (% of stride)', 'Double Support Interval (sec)',\t'Double Support Interval (% of stride)']\n",
    "\n",
    "with zipfile.ZipFile(ruta+'\\\\EEG_Data.zip', 'r') as zip_ref:\n",
    "    \n",
    "    for file in zip_ref.infolist():\n",
    "        \n",
    "        if file.filename.startswith('Control/control') and file.filename.endswith('.ts'):\n",
    "            #print(file)\n",
    "            with zip_ref.open(file) as ts_file:\n",
    "                ts_file_contents = pd.read_csv(ts_file, delimiter='\\t', names=names)\n",
    "                ts_file_contents = ts_file_contents.iloc[:, 0:5]\n",
    "                ts_file_contents = pd.DataFrame(ts_file_contents.to_numpy())\n",
    "                ts_files_contents_grupo[file.filename] = ts_file_contents\n",
    "canal_paciente_parkinson=pd.DataFrame(ts_files_contents_grupo['Control/control1.ts'])[2]\n",
    "print(canal_paciente_parkinson)\n",
    "canal_paciente_parkinson.to_excel('canal2_paciente_sano.xlsx', index=False) "
   ]
  },
  {
   "cell_type": "code",
   "execution_count": null,
   "metadata": {},
   "outputs": [],
   "source": []
  }
 ],
 "metadata": {
  "kernelspec": {
   "display_name": "Python 3",
   "language": "python",
   "name": "python3"
  },
  "language_info": {
   "codemirror_mode": {
    "name": "ipython",
    "version": 3
   },
   "file_extension": ".py",
   "mimetype": "text/x-python",
   "name": "python",
   "nbconvert_exporter": "python",
   "pygments_lexer": "ipython3",
   "version": "3.12.6"
  }
 },
 "nbformat": 4,
 "nbformat_minor": 2
}
